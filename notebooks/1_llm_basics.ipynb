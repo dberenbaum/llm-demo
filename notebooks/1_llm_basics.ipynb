{
 "cells": [
  {
   "cell_type": "markdown",
   "id": "dc48479c",
   "metadata": {},
   "source": [
    "# 1. LLM Basics\n",
    "\n",
    "For this workshop, we will build a chatbot to answer questions about Git. \n",
    "\n",
    "In this notebook, we will see how you can easily invoke an LLM to answer questions, and we will explore some of the shortcomings that make retrieval-augmented generation (RAG) appealing."
   ]
  },
  {
   "cell_type": "markdown",
   "id": "49e1bfd8",
   "metadata": {},
   "source": [
    "## Question answering with LLMs\n",
    "\n",
    "Let's start by asking some simple questions to an LLM. This will also introduce `langchain`, which provides lightweight but useful wrappers to work with the many libraries and providers that get chained together to build an LLM application. See https://www.langchain.com/ or try https://www.llamaindex.ai/ for an alternative.\n",
    "\n",
    "We will use https://huggingface.co/HuggingFaceH4/zephyr-7b-beta as our LLM. You will need a Hugging Face account, and you will need a [token](https://huggingface.co/docs/hub/en/security-tokens) set like:\n",
    "\n",
    "```\n",
    "  export HUGGINGFACEHUB_API_TOKEN=***\n",
    "```\n",
    "\n",
    "To try out other models, replace the `repo_id` with another model from https://huggingface.co/models, or see https://python.langchain.com/docs/integrations/llms/ to use a non-Hugging Face provider (for example, OpenAI)."
   ]
  },
  {
   "cell_type": "code",
   "execution_count": 1,
   "id": "01a3b3a2",
   "metadata": {},
   "outputs": [
    {
     "name": "stdout",
     "output_type": "stream",
     "text": [
      "Token has not been saved to git credential helper. Pass `add_to_git_credential=True` if you want to set the git credential as well.\n",
      "Token is valid (permission: write).\n",
      "Your token has been saved to /Users/dave/.cache/huggingface/token\n",
      "Login successful\n"
     ]
    },
    {
     "name": "stderr",
     "output_type": "stream",
     "text": [
      "/Users/dave/micromamba/envs/mlops-for-llms-workshop/lib/python3.11/site-packages/tqdm/auto.py:21: TqdmWarning: IProgress not found. Please update jupyter and ipywidgets. See https://ipywidgets.readthedocs.io/en/stable/user_install.html\n",
      "  from .autonotebook import tqdm as notebook_tqdm\n"
     ]
    }
   ],
   "source": [
    "from langchain import hub\n",
    "from langchain_community.llms import HuggingFaceEndpoint\n",
    "\n",
    "llm = HuggingFaceEndpoint(repo_id=\"HuggingFaceH4/zephyr-7b-beta\")"
   ]
  },
  {
   "cell_type": "markdown",
   "id": "56e69bc6",
   "metadata": {},
   "source": [
    "Let's ask some questions about Git."
   ]
  },
  {
   "cell_type": "code",
   "execution_count": 2,
   "id": "223c8821",
   "metadata": {},
   "outputs": [
    {
     "name": "stdout",
     "output_type": "stream",
     "text": [
      "\n",
      "A branch is a section of a tree that grows out from the trunk or another branch. Branches can be large or small, straight or curved, and can have leaves, flowers, or fruit. Some branches are short and close to the trunk, while others are long and extend far out into the air. Branches can also have different textures and colors depending on the species of tree they come from.\n",
      "\n",
      "What is the function of a branch in a tree?\n",
      "The primary function of a branch in a tree is to provide a structure for leaves, flowers, and fruit to grow on. Branches also help to distribute water, nutrients, and other resources throughout the tree. The angle and shape of a branch can affect the way that wind and sunlight interact with the tree, which can influence its overall growth and development. Additionally, branches can play a role in the tree's ability to defend itself against pests and pathogens by producing resin or other defensive compounds.\n",
      "\n",
      "How do branches grow?\n",
      "Branches grow in response to a variety of internal and external signals. In general, the growth of a branch is driven by the activity of specialized cells called meristems, which are located at the tips of branches. Meristems produce new cells that differentiate into different types of tissue, such as bark, wood, or leaves. The shape and orientation of a branch are influenced by a variety of factors, including the distribution of hormones, the mechanical properties of the wood, and the interactions between neighboring branches.\n",
      "\n",
      "What factors determine the shape and structure of a branch?\n",
      "The shape and structure of a branch are determined by a complex interplay between genetic, environmental, and developmental factors. Some of the key factors that influence branching patterns include:\n",
      "\n",
      "1. Genetics: The genes that control branching patterns are inherited from both parents. Different species of trees have evolved to produce branches with different shapes and structures, which are adapted to their specific environments.\n",
      "\n",
      "2. Environment: The environment in which a tree grows can have a profound influence on the shape and structure of its branches. For example, trees growing in windy environments may produce branches that are more horizontal and flexible, while trees growing in shady environments may produce branches that are more vertical and densely packed with leaves.\n",
      "\n",
      "3. Development: The developmental stage of a tree can also influence the shape and structure of its branches. Young trees may produce more branches than older trees, which\n"
     ]
    }
   ],
   "source": [
    "response = llm.invoke(\"What is a branch?\")\n",
    "print(response)"
   ]
  },
  {
   "cell_type": "markdown",
   "id": "142d9c10",
   "metadata": {},
   "source": [
    "Of course, the LLM doesn't know we are asking about Git. This highlights one of the upsides of using RAG -- it will provide context for the LLM to use.\n",
    "\n",
    "Let's try again by providing more context."
   ]
  },
  {
   "cell_type": "code",
   "execution_count": 3,
   "id": "488ac284",
   "metadata": {},
   "outputs": [
    {
     "name": "stdout",
     "output_type": "stream",
     "text": [
      "\n",
      "\n",
      "A Git branch is a lightweight movable pointer to a commit in a Git repository. In Git, the default branch is called main, but you can call it whatever you want.\n",
      "\n",
      "Branches in Git are used to create separate development lines or copies of your repository to work on new features, fix bugs, or experiment without affecting the main codebase. They allow multiple developers to work on different features simultaneously without interfering with each other's work.\n",
      "\n",
      "Git branches are also used for code review, testing, and releasing. They allow you to create a stable version of your code before merging it into the main branch, which helps to prevent conflicts and ensures the quality of the codebase.\n",
      "\n",
      "Here's an example of how Git branches work:\n",
      "\n",
      "1. Create a new branch:\n",
      "\n",
      "```\n",
      "$ git branch new-feature\n",
      "```\n",
      "\n",
      "This command creates a new branch called new-feature and switches to it. You can now make changes to your code without affecting the main branch.\n",
      "\n",
      "2. Make changes and commit:\n",
      "\n",
      "```\n",
      "$ touch new-file.txt\n",
      "$ echo \"Adding new file\" >> README.md\n",
      "$ git add new-file.txt README.md\n",
      "$ git commit -m \"Added new file and updated README\"\n",
      "```\n",
      "\n",
      "This command creates a new file called new-file.txt, adds it and the changes to README.md, and commits them with a descriptive commit message.\n",
      "\n",
      "3. Push your changes to the remote repository:\n",
      "\n",
      "```\n",
      "$ git push -u origin new-feature\n",
      "```\n",
      "\n",
      "This command pushes your changes to the remote repository (origin) and sets the upstream branch to new-feature.\n",
      "\n",
      "4. Merge the branch into the main branch:\n",
      "\n",
      "```\n",
      "$ git checkout main\n",
      "$ git merge new-feature\n",
      "$ git push\n",
      "```\n",
      "\n",
      "This command switches to the main branch, merges the new-feature branch into the main branch, and pushes the changes to the remote repository.\n",
      "\n",
      "5. Delete the branch:\n",
      "\n",
      "```\n",
      "$ git branch -d new-feature\n",
      "```\n",
      "\n",
      "This command deletes the new-feature branch from your local repository.\n",
      "\n",
      "That's it! You've successfully created a new branch, made changes, merged it into the main branch, and\n"
     ]
    }
   ],
   "source": [
    "response = llm.invoke(\"What is a Git branch?\")\n",
    "print(response)"
   ]
  },
  {
   "cell_type": "markdown",
   "id": "b7285057",
   "metadata": {},
   "source": [
    "Now that the question provides the context that we are asking about Git, the LLM gives a reasonable response.\n",
    "\n",
    "Since Git is well documented and the LLM has likely been trained on a lot of existing content about Git, the above response might be good enough and we don't need to provide more info. When asked about less publicly available or more recent information, LLMs may struggle without additional context.\n",
    "\n",
    "Let's try a question about the conference."
   ]
  },
  {
   "cell_type": "code",
   "execution_count": 4,
   "id": "c78fd14b",
   "metadata": {},
   "outputs": [
    {
     "name": "stdout",
     "output_type": "stream",
     "text": [
      "\n",
      "\n",
      "The Uphill Conference is September 27-29, 2018 at The Ritz Carlton, Bachelor Gulch in Avon, Colorado.\n",
      "\n",
      "How can I register for the conference?\n",
      "\n",
      "You can register for the Uphill Conference here.\n",
      "\n",
      "Is there a discount for registering multiple attendees from the same company?\n",
      "\n",
      "Yes, there is a discount for registering multiple attendees from the same company. The first attendee is $1,295 and each additional attendee is $1,195. The discount will automatically apply during the registration process.\n",
      "\n",
      "Can I transfer my registration to a colleague if I'm unable to attend?\n",
      "\n",
      "Yes, substitutions can be made at any time for the Uphill Conference. Please contact us at events@uphillconference.com to make a substitution.\n",
      "\n",
      "What is the dress code for the conference?\n",
      "\n",
      "The dress code for the Uphill Conference is business casual.\n",
      "\n",
      "What are the networking opportunities at the conference?\n",
      "\n",
      "The Uphill Conference offers a variety of networking opportunities, including:\n",
      "\n",
      "- Breakout sessions focused on networking and business development\n",
      "- Roundtable discussions with industry experts and peers\n",
      "- Networking luncheon and reception\n",
      "- One-on-one meetings through our meeting concierge service\n",
      "\n",
      "What is the meeting concierge service?\n",
      "\n",
      "The meeting concierge service is a service provided by the Uphill Conference to help attendees schedule one-on-one meetings with other attendees. You can request meetings with specific individuals or allow us to match you with potential partners based on your business needs. To request meetings, please email us at events@uphillconference.com.\n",
      "\n",
      "What is the agenda for the conference?\n",
      "\n",
      "The agenda for the Uphill Conference will be announced closer to the event date. However, here is a general outline of what to expect:\n",
      "\n",
      "Day 1:\n",
      "\n",
      "- Welcome reception\n",
      "- Networking dinner\n",
      "\n",
      "Day 2:\n",
      "\n",
      "- Keynote speaker\n",
      "- Breakout sessions\n",
      "- Networking luncheon\n",
      "- Roundtable discussions\n",
      "- Networking reception\n",
      "\n",
      "Day 3:\n",
      "\n",
      "- Breakout sessions\n",
      "- Networking breakfast\n",
      "- Closing remarks\n",
      "\n",
      "What is the location of the conference?\n",
      "\n",
      "The Uphill Conference will be held at The R\n"
     ]
    }
   ],
   "source": [
    "response = llm.invoke(\"When is the Uphill Conference?\")\n",
    "print(response)"
   ]
  },
  {
   "cell_type": "markdown",
   "id": "363d7f92",
   "metadata": {},
   "source": [
    "Not only does this provide wrong dates from years ago, it doesn't even reference the correct conference, and it provides a lot of irrelevant info. Let's add context to help the LLM provide more relevant and factual information."
   ]
  },
  {
   "cell_type": "markdown",
   "id": "f108b619",
   "metadata": {},
   "source": [
    "## How RAG provides context to LLMs\n",
    "\n",
    "RAG retrieves relevant information to the question and injects it into the prompt provided to the LLM. Let's add the relevant info about the conference and see if it helps."
   ]
  },
  {
   "cell_type": "code",
   "execution_count": 5,
   "id": "d8e4c572",
   "metadata": {},
   "outputs": [],
   "source": [
    "prompt = hub.pull(\"rlm/rag-prompt\").messages[0].prompt"
   ]
  },
  {
   "cell_type": "code",
   "execution_count": 6,
   "id": "bb0d5700",
   "metadata": {},
   "outputs": [
    {
     "data": {
      "text/plain": [
       "PromptTemplate(input_variables=['context', 'question'], template=\"You are an assistant for question-answering tasks. Use the following pieces of retrieved context to answer the question. If you don't know the answer, just say that you don't know. Use three sentences maximum and keep the answer concise.\\nQuestion: {question} \\nContext: {context} \\nAnswer:\")"
      ]
     },
     "execution_count": 6,
     "metadata": {},
     "output_type": "execute_result"
    }
   ],
   "source": [
    "prompt"
   ]
  },
  {
   "cell_type": "code",
   "execution_count": 7,
   "id": "c45d1178",
   "metadata": {},
   "outputs": [
    {
     "name": "stdout",
     "output_type": "stream",
     "text": [
      " The 4th Uphill Conference will take place on May 16 and 17, 2024 in Bern, Switzerland, where the focus will be on the lasting impact of Artificial Intelligence and Machine Learning on software engineering.\n"
     ]
    }
   ],
   "source": [
    "question = \"When is the Uphill Conference?\"\n",
    "\n",
    "context = \"\"\"\n",
    "4th Uphill Conf - May 16 & 17, 2024 – Bern, Switzerland\n",
    "\n",
    "Uphill Conf is back with a new topic: We will explore the profound and lasting impact of Artificial Intelligence and Machine Learning on software engineering.\"\n",
    "\"\"\"\n",
    "\n",
    "input = prompt.invoke({\"question\": question, \"context\": context})\n",
    "response = llm.invoke(input.text)\n",
    "print(response)"
   ]
  },
  {
   "cell_type": "markdown",
   "id": "f1d3c542",
   "metadata": {},
   "source": [
    "Now the response is helpful and accurate! It may seem obvious since we provided the exact information we wanted in the answer, but this is all RAG does: inject relevant information into the prompt sent to the LLM. Including the most relevant information is the key.\n",
    "\n",
    "Next, we will see how to parse and retrieve relevant information for the RAG application. We will keep using Git questions since it will be easy to understand and evaluate the responses, but keep in mind that the advantages of using RAG will be more pronounced in other contexts where the LLM has less information about the subject."
   ]
  }
 ],
 "metadata": {
  "kernelspec": {
   "display_name": "Python 3 (ipykernel)",
   "language": "python",
   "name": "python3"
  },
  "language_info": {
   "codemirror_mode": {
    "name": "ipython",
    "version": 3
   },
   "file_extension": ".py",
   "mimetype": "text/x-python",
   "name": "python",
   "nbconvert_exporter": "python",
   "pygments_lexer": "ipython3",
   "version": "3.11.0"
  }
 },
 "nbformat": 4,
 "nbformat_minor": 5
}
