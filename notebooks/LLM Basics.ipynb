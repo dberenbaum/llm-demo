{
 "cells": [
  {
   "cell_type": "markdown",
   "id": "6f4e9a27",
   "metadata": {},
   "source": [
    "# LLM Basics\n",
    "\n",
    "For this workshop, we will build a chatbot to answer questions about Git. \n",
    "\n",
    "In this notebook, we will see how you can easily invoke an LLM to answer questions, and we will explore some of the shortcomings that make retrieval-augmented generation appealing."
   ]
  },
  {
   "cell_type": "markdown",
   "id": "1fdf6f91",
   "metadata": {},
   "source": [
    "## Question answering with LLMs\n",
    "\n",
    "Let's start by asking some simple questions to an LLM. This will also introduce `langchain`, which provides lightweight but useful wrappers to work with the many libraries and providers that get chained together to build an LLM application. See https://www.langchain.com/ or try https://www.llamaindex.ai/ for an alternative.\n",
    "\n",
    "We will use https://huggingface.co/HuggingFaceH4/zephyr-7b-beta as our LLM, but you can easily switch out to any other model. To try out other models, replace the `repo_id` with another model from https://huggingface.co/models, or see https://python.langchain.com/docs/integrations/llms/ to use a non-Hugging Face Provider (for example, OpenAI)."
   ]
  },
  {
   "cell_type": "code",
   "execution_count": 1,
   "id": "9ddccdbb",
   "metadata": {},
   "outputs": [
    {
     "name": "stderr",
     "output_type": "stream",
     "text": [
      "/Users/dave/micromamba/envs/mlops-for-llms-workshop/lib/python3.11/site-packages/tqdm/auto.py:21: TqdmWarning: IProgress not found. Please update jupyter and ipywidgets. See https://ipywidgets.readthedocs.io/en/stable/user_install.html\n",
      "  from .autonotebook import tqdm as notebook_tqdm\n"
     ]
    },
    {
     "name": "stdout",
     "output_type": "stream",
     "text": [
      "Token has not been saved to git credential helper. Pass `add_to_git_credential=True` if you want to set the git credential as well.\n",
      "Token is valid (permission: write).\n",
      "Your token has been saved to /Users/dave/.cache/huggingface/token\n",
      "Login successful\n"
     ]
    }
   ],
   "source": [
    "from langchain import hub\n",
    "from langchain_community.llms import HuggingFaceEndpoint\n",
    "\n",
    "llm = HuggingFaceEndpoint(repo_id=\"HuggingFaceH4/zephyr-7b-beta\")"
   ]
  },
  {
   "cell_type": "markdown",
   "id": "ce577c6f",
   "metadata": {},
   "source": [
    "Let's ask some questions about Git."
   ]
  },
  {
   "cell_type": "code",
   "execution_count": 2,
   "id": "510e63e9",
   "metadata": {},
   "outputs": [
    {
     "data": {
      "text/plain": [
       "'\\nA branch is a structure on a tree that grows from the trunk or a larger branch. Branches provide support for leaves, flowers, and fruits, and help the tree to spread out and expand its reach. The shape and arrangement of branches can vary widely depending on the species of tree. Some trees have broad, spreading branches, while others have narrow, upright branches. The angle and distance between branches can also affect the overall shape and growth pattern of the tree. Branches can play a crucial role in the ecology and habitat of a forest, providing shelter, food, and nesting sites for a variety of plant and animal species.'"
      ]
     },
     "execution_count": 2,
     "metadata": {},
     "output_type": "execute_result"
    }
   ],
   "source": [
    "llm.invoke(\"What is a branch?\")"
   ]
  },
  {
   "cell_type": "markdown",
   "id": "3d0387df",
   "metadata": {},
   "source": [
    "Of course, the LLM doesn't know we are asking about Git. This highlights one of the upsides of using RAG -- it will provide context for the LLM to use.\n",
    "\n",
    "Let's try again by providing more context."
   ]
  },
  {
   "cell_type": "code",
   "execution_count": 3,
   "id": "44659df6",
   "metadata": {},
   "outputs": [
    {
     "data": {
      "text/plain": [
       "'\\n\\nA Git branch is a lightweight movable pointer (a special type of reference) to a commit in a Git repository.\\n\\nA Git branch is a named pointer to a commit. A branch doesn’t contain the commit objects themselves; it just contains a pointer to the commit object.\\n\\nGit branches are used to manage and organize work in a Git repository. Branches can be created, deleted, and moved around as needed.\\n\\nThere are two types of branches in Git: local branches and remote branches. Local branches are created and managed within a local Git repository, while remote branches are created and managed on a remote Git server or repository.\\n\\nWhen working on a Git repository, it’s common to create a branch for each new feature, bug fix, or experimental change. This allows multiple changes to be worked on independently and then merged back into the main branch (usually called the “main” or “master” branch) when they’re ready.\\n\\nOverall, Git branches are a powerful and flexible tool for managing and organizing work in a Git repository. They allow multiple changes to be worked on simultaneously, make it easy to experiment with new ideas, and provide a way to manage merges and collaborative work.'"
      ]
     },
     "execution_count": 3,
     "metadata": {},
     "output_type": "execute_result"
    }
   ],
   "source": [
    "llm.invoke(\"What is a Git branch?\")"
   ]
  },
  {
   "cell_type": "markdown",
   "id": "cfba7e35",
   "metadata": {},
   "source": [
    "Now that the question provides the context that we are asking about Git, the LLM gives a reasonable response.\n",
    "\n",
    "Since Git is well documented and the LLM has likely been trained on a lot of existing content about Git, the above response might be good enough and we don't need to provide more info. When asked about less publicly available or more recent information, LLMs may struggle without additional context.\n",
    "\n",
    "Let's try a question about the conference."
   ]
  },
  {
   "cell_type": "code",
   "execution_count": 4,
   "id": "2f48d292",
   "metadata": {},
   "outputs": [
    {
     "data": {
      "text/plain": [
       "'\\nThe Uphill Conference is held every year in June.\\nThe 2022 Uphill Conference will be held on June 14-16 at the Royal Sonesta Harbor Court Baltimore Hotel.\\nHow do I register for the Uphill Conference?\\nTo register for the conference, you must be a current Uphill Member.\\nOnce you are a member, you will receive an email with instructions on how to register for the conference.\\nCan I attend the Uphill Conference as a non-member?\\nThe Uphill Conference is exclusively for Uphill Members.\\nIf you are interested in becoming a member, please visit our membership page.\\nWhat is included in the conference registration fee?\\nThe conference registration fee includes access to all conference sessions, conference materials, meals, and networking events.\\nWhat topics will be covered at the Uphill Conference?\\nThe Uphill Conference covers a wide range of topics related to the unique challenges and opportunities faced by manufacturers and distributors in the uphill market.\\nSome of the topics that may be covered include:\\n\\n- Supply chain management\\n- Logistics and transportation\\n- Regulatory compliance\\n- Sales and marketing strategies\\n- Industry trends and forecasts\\n- Cybersecurity\\n- Risk management\\n- Customer engagement and satisfaction\\n\\nWho attends the Uphill Conference?\\nThe Uphill Conference is attended by executives, managers, and other professionals from manufacturers and distributors in the uphill market.\\nAttendees represent a variety of industries, including healthcare, pharmaceuticals, biotechnology, food and beverage, chemicals, and more.\\nWhat is the dress code for the conference?\\nThe dress code for the Uphill Conference is business attire.\\nWe recommend wearing professional clothing that allows you to move comfortably throughout the conference.\\nWhat is the cancellation policy for the conference?\\nIf you need to cancel your registration, please contact us at least 30 days before the conference to receive a refund, less a $50 administrative fee.\\nAfter 30 days, no refunds will be given.\\nSubstitutions are allowed up to 5 days before the conference.\\nWhat is the deadline to register for the conference?\\nThe deadline to register for the conference is May 31, 2022.\\nAfter this date, on-site registration will be available at a higher fee.\\nIs'"
      ]
     },
     "execution_count": 4,
     "metadata": {},
     "output_type": "execute_result"
    }
   ],
   "source": [
    "llm.invoke(\"When is the Uphill Conference?\")"
   ]
  },
  {
   "cell_type": "markdown",
   "id": "9511d203",
   "metadata": {},
   "source": [
    "Not only does this provide wrong dates from years ago, it doesn't even reference the correct conference, and it provides a lot of irrelevant info. Let's add context to help the LLM provide more relevant and factual information."
   ]
  },
  {
   "cell_type": "markdown",
   "id": "30415db8",
   "metadata": {},
   "source": [
    "## How RAG provides context to LLMs\n",
    "\n",
    "RAG retrieves relevant information to the question and injects it into the prompt provided to the LLM. Let's add the relevant info about the conference and see if it helps."
   ]
  },
  {
   "cell_type": "code",
   "execution_count": 5,
   "id": "35160588",
   "metadata": {},
   "outputs": [],
   "source": [
    "prompt = hub.pull(\"rlm/rag-prompt\").messages[0].prompt"
   ]
  },
  {
   "cell_type": "code",
   "execution_count": 6,
   "id": "84f97dba",
   "metadata": {},
   "outputs": [
    {
     "data": {
      "text/plain": [
       "PromptTemplate(input_variables=['context', 'question'], template=\"You are an assistant for question-answering tasks. Use the following pieces of retrieved context to answer the question. If you don't know the answer, just say that you don't know. Use three sentences maximum and keep the answer concise.\\nQuestion: {question} \\nContext: {context} \\nAnswer:\")"
      ]
     },
     "execution_count": 6,
     "metadata": {},
     "output_type": "execute_result"
    }
   ],
   "source": [
    "prompt"
   ]
  },
  {
   "cell_type": "code",
   "execution_count": 7,
   "id": "00efbac7",
   "metadata": {},
   "outputs": [
    {
     "data": {
      "text/plain": [
       "' The 4th Uphill Conference is scheduled for May 16 and 17, 2024, in Bern, Switzerland, where the focus will be on the impact of Artificial Intelligence and Machine Learning on software engineering.'"
      ]
     },
     "execution_count": 7,
     "metadata": {},
     "output_type": "execute_result"
    }
   ],
   "source": [
    "question = \"When is the Uphill Conference?\"\n",
    "\n",
    "context = \"\"\"\n",
    "4th Uphill Conf - May 16 & 17, 2024 – Bern, Switzerland\n",
    "\n",
    "Uphill Conf is back with a new topic: We will explore the profound and lasting impact of Artificial Intelligence and Machine Learning on software engineering.\"\n",
    "\"\"\"\n",
    "\n",
    "input = prompt.invoke({\"question\": question, \"context\": context})\n",
    "llm.invoke(input.text)"
   ]
  },
  {
   "cell_type": "markdown",
   "id": "60f184ae",
   "metadata": {},
   "source": [
    "Now the response is helpful and accurate! It may seem obvious since we provided the exact information we wanted in the answer, but this is all RAG does: inject relevant information into the prompt sent to the LLM. Including the most relevant information is the key.\n",
    "\n",
    "Next, we will see how to parse and retrieve relevant information for the RAG application. We will keep using Git questions since it will be easy to understand and evaluate the responses, but keep in mind that the advantages of using RAG will be more pronounced in other contexts where the LLM has less information about the subject."
   ]
  }
 ],
 "metadata": {
  "kernelspec": {
   "display_name": "Python 3 (ipykernel)",
   "language": "python",
   "name": "python3"
  },
  "language_info": {
   "codemirror_mode": {
    "name": "ipython",
    "version": 3
   },
   "file_extension": ".py",
   "mimetype": "text/x-python",
   "name": "python",
   "nbconvert_exporter": "python",
   "pygments_lexer": "ipython3",
   "version": "3.11.0"
  }
 },
 "nbformat": 4,
 "nbformat_minor": 5
}
